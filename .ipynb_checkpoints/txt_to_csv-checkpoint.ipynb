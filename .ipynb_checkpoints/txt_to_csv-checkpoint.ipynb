{
 "cells": [
  {
   "cell_type": "code",
   "execution_count": 3,
   "id": "a1783952-b6a2-4f4a-908b-99a7281414f5",
   "metadata": {},
   "outputs": [
    {
     "name": "stdout",
     "output_type": "stream",
     "text": [
      "✅ Dönüşüm tamamlandı: depremler.csv\n"
     ]
    }
   ],
   "source": [
    "import pandas as pd\n",
    "import re\n",
    "\n",
    "input_file = \"19300915_20250915_3.5_9.0_30_280.txt\"\n",
    "output_file = \"deprem_verisi.csv\"\n",
    "\n",
    "rows = []\n",
    "with open(input_file, 'r', encoding='ISO-8859-9') as f:\n",
    "    lines = f.readlines()\n",
    "\n",
    "# 1️⃣ İlk satır başlık (Header)\n",
    "header_line = lines[0].strip()\n",
    "# birden fazla boşluğa göre böl -> kolon isimleri\n",
    "columns = re.split(r'\\s+', header_line)\n",
    "\n",
    "# 2️⃣ Diğer satırlar\n",
    "for line in lines[1:]:\n",
    "    # sondaki newline'ı sil\n",
    "    parts = re.split(r'\\s+', line.strip(), maxsplit=len(columns)-1)\n",
    "    rows.append(parts)\n",
    "\n",
    "# 3️⃣ DataFrame oluştur\n",
    "df = pd.DataFrame(rows, columns=columns)\n",
    "\n",
    "# 4️⃣ CSV olarak kaydet\n",
    "df.to_csv(output_file, index=False, encoding='utf-8')\n",
    "\n",
    "print(\"✅ Dönüşüm tamamlandı:\", output_file)\n"
   ]
  },
  {
   "cell_type": "code",
   "execution_count": null,
   "id": "9ede7b26-fa77-45e8-b848-9962fd97e432",
   "metadata": {},
   "outputs": [],
   "source": []
  }
 ],
 "metadata": {
  "kernelspec": {
   "display_name": "Python 3 (ipykernel)",
   "language": "python",
   "name": "python3"
  },
  "language_info": {
   "codemirror_mode": {
    "name": "ipython",
    "version": 3
   },
   "file_extension": ".py",
   "mimetype": "text/x-python",
   "name": "python",
   "nbconvert_exporter": "python",
   "pygments_lexer": "ipython3",
   "version": "3.11.7"
  }
 },
 "nbformat": 4,
 "nbformat_minor": 5
}
