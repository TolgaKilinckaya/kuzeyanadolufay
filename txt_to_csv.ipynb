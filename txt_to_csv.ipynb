{
 "cells": [
  {
   "cell_type": "code",
   "execution_count": 5,
   "id": "a1783952-b6a2-4f4a-908b-99a7281414f5",
   "metadata": {},
   "outputs": [
    {
     "name": "stdout",
     "output_type": "stream",
     "text": [
      "✅ Dönüşüm tamamlandı: deprem_verisi.csv\n"
     ]
    }
   ],
   "source": [
    "import pandas as pd\n",
    "\n",
    "input_file = \"19300915_20250915_3.5_9.0_30_280.txt\"\n",
    "output_file = \"deprem_verisi.csv\"\n",
    "\n",
    "df = pd.read_csv(\n",
    "    input_file,\n",
    "    sep=\"\\t\",                 # sütunlar TAB ile ayrılmış\n",
    "    engine=\"python\",\n",
    "    encoding=\"ISO-8859-9\",     # veya 'latin5' ya da 'windows-1254'\n",
    ")\n",
    "\n",
    "df.to_csv(output_file, index=False, encoding=\"utf-8\")\n",
    "print(\"✅ Dönüşüm tamamlandı:\", output_file)\n"
   ]
  },
  {
   "cell_type": "code",
   "execution_count": null,
   "id": "9ede7b26-fa77-45e8-b848-9962fd97e432",
   "metadata": {},
   "outputs": [],
   "source": []
  }
 ],
 "metadata": {
  "kernelspec": {
   "display_name": "Python 3 (ipykernel)",
   "language": "python",
   "name": "python3"
  },
  "language_info": {
   "codemirror_mode": {
    "name": "ipython",
    "version": 3
   },
   "file_extension": ".py",
   "mimetype": "text/x-python",
   "name": "python",
   "nbconvert_exporter": "python",
   "pygments_lexer": "ipython3",
   "version": "3.11.7"
  }
 },
 "nbformat": 4,
 "nbformat_minor": 5
}
